{
 "cells": [
  {
   "cell_type": "markdown",
   "metadata": {},
   "source": [
    "**Health Insurance Cross-Sell Prediction**\n",
    "\n",
    "This project aims to predict health insurance customers, using their profiles, who may be interested in vehicle insurance provided by the same company, known as Health Insurance Cross-Selling."
   ]
  },
  {
   "cell_type": "markdown",
   "metadata": {},
   "source": [
    "**Import Data**\n",
    "\n",
    "We begin by importing the data into python from a CSV file. The file with the training data has been imported as train and we have a holdout data, test, for testing the accuracy of the model.\n"
   ]
  },
  {
   "cell_type": "code",
   "execution_count": 60,
   "metadata": {},
   "outputs": [],
   "source": [
    "import numpy as np\n",
    "import pandas as pd\n",
    "# Reading the csv file\n",
    "\n",
    "df = pd.read_csv(\"train.csv\")\n"
   ]
  },
  {
   "cell_type": "markdown",
   "metadata": {},
   "source": [
    "**Explore the data characteristics**\n",
    "The next step is to investiagete the characteristics of the training and testing data."
   ]
  },
  {
   "cell_type": "code",
   "execution_count": 61,
   "metadata": {},
   "outputs": [
    {
     "data": {
      "text/html": [
       "<div>\n",
       "<style scoped>\n",
       "    .dataframe tbody tr th:only-of-type {\n",
       "        vertical-align: middle;\n",
       "    }\n",
       "\n",
       "    .dataframe tbody tr th {\n",
       "        vertical-align: top;\n",
       "    }\n",
       "\n",
       "    .dataframe thead th {\n",
       "        text-align: right;\n",
       "    }\n",
       "</style>\n",
       "<table border=\"1\" class=\"dataframe\">\n",
       "  <thead>\n",
       "    <tr style=\"text-align: right;\">\n",
       "      <th></th>\n",
       "      <th>id</th>\n",
       "      <th>Gender</th>\n",
       "      <th>Age</th>\n",
       "      <th>Driving_License</th>\n",
       "      <th>Region_Code</th>\n",
       "      <th>Previously_Insured</th>\n",
       "      <th>Vehicle_Age</th>\n",
       "      <th>Vehicle_Damage</th>\n",
       "      <th>Annual_Premium</th>\n",
       "      <th>Policy_Sales_Channel</th>\n",
       "      <th>Vintage</th>\n",
       "      <th>Response</th>\n",
       "    </tr>\n",
       "  </thead>\n",
       "  <tbody>\n",
       "    <tr>\n",
       "      <th>0</th>\n",
       "      <td>1</td>\n",
       "      <td>Male</td>\n",
       "      <td>44</td>\n",
       "      <td>1</td>\n",
       "      <td>28</td>\n",
       "      <td>0</td>\n",
       "      <td>&gt; 2 Years</td>\n",
       "      <td>Yes</td>\n",
       "      <td>40454</td>\n",
       "      <td>26</td>\n",
       "      <td>217</td>\n",
       "      <td>1</td>\n",
       "    </tr>\n",
       "    <tr>\n",
       "      <th>1</th>\n",
       "      <td>2</td>\n",
       "      <td>Male</td>\n",
       "      <td>76</td>\n",
       "      <td>1</td>\n",
       "      <td>3</td>\n",
       "      <td>0</td>\n",
       "      <td>1-2 Year</td>\n",
       "      <td>No</td>\n",
       "      <td>33536</td>\n",
       "      <td>26</td>\n",
       "      <td>183</td>\n",
       "      <td>0</td>\n",
       "    </tr>\n",
       "    <tr>\n",
       "      <th>2</th>\n",
       "      <td>3</td>\n",
       "      <td>Male</td>\n",
       "      <td>47</td>\n",
       "      <td>1</td>\n",
       "      <td>28</td>\n",
       "      <td>0</td>\n",
       "      <td>&gt; 2 Years</td>\n",
       "      <td>Yes</td>\n",
       "      <td>38294</td>\n",
       "      <td>26</td>\n",
       "      <td>27</td>\n",
       "      <td>1</td>\n",
       "    </tr>\n",
       "    <tr>\n",
       "      <th>3</th>\n",
       "      <td>4</td>\n",
       "      <td>Male</td>\n",
       "      <td>21</td>\n",
       "      <td>1</td>\n",
       "      <td>11</td>\n",
       "      <td>1</td>\n",
       "      <td>&lt; 1 Year</td>\n",
       "      <td>No</td>\n",
       "      <td>28619</td>\n",
       "      <td>152</td>\n",
       "      <td>203</td>\n",
       "      <td>0</td>\n",
       "    </tr>\n",
       "    <tr>\n",
       "      <th>4</th>\n",
       "      <td>5</td>\n",
       "      <td>Female</td>\n",
       "      <td>29</td>\n",
       "      <td>1</td>\n",
       "      <td>41</td>\n",
       "      <td>1</td>\n",
       "      <td>&lt; 1 Year</td>\n",
       "      <td>No</td>\n",
       "      <td>27496</td>\n",
       "      <td>152</td>\n",
       "      <td>39</td>\n",
       "      <td>0</td>\n",
       "    </tr>\n",
       "  </tbody>\n",
       "</table>\n",
       "</div>"
      ],
      "text/plain": [
       "   id  Gender  Age  Driving_License  Region_Code  Previously_Insured  \\\n",
       "0   1    Male   44                1           28                   0   \n",
       "1   2    Male   76                1            3                   0   \n",
       "2   3    Male   47                1           28                   0   \n",
       "3   4    Male   21                1           11                   1   \n",
       "4   5  Female   29                1           41                   1   \n",
       "\n",
       "  Vehicle_Age Vehicle_Damage  Annual_Premium  Policy_Sales_Channel  Vintage  \\\n",
       "0   > 2 Years            Yes           40454                    26      217   \n",
       "1    1-2 Year             No           33536                    26      183   \n",
       "2   > 2 Years            Yes           38294                    26       27   \n",
       "3    < 1 Year             No           28619                   152      203   \n",
       "4    < 1 Year             No           27496                   152       39   \n",
       "\n",
       "   Response  \n",
       "0         1  \n",
       "1         0  \n",
       "2         1  \n",
       "3         0  \n",
       "4         0  "
      ]
     },
     "execution_count": 61,
     "metadata": {},
     "output_type": "execute_result"
    }
   ],
   "source": [
    "# See first 5 rows of the training data\n",
    "df.head()\n",
    "\n"
   ]
  },
  {
   "cell_type": "markdown",
   "metadata": {},
   "source": [
    "\n",
    "**Variable Descriptions**\n",
    "\n",
    "*id*:\tUnique ID for the customer\n",
    "\n",
    "*Gender*:\tGender of the customer\n",
    "\n",
    "*Age*:\tAge of the customer\n",
    "\n",
    "*Driving_License*:\t0:- Customer does not have DL, 1:- Customer already has DL\n",
    "\n",
    "*Region_Code*: Unique code for the region of the customer\n",
    "\n",
    "*Previously_Insured*: 1:- Customer already has Vehicle Insurance, 0:- Customer doesn't have Vehicle Insurance\n",
    "\n",
    "*Vehicle_Age*:\tAge of the Vehicle\n",
    "\n",
    "*Vehicle_Damage*\tYes:- Customer got his/her vehicle damaged in the past. No:- Customer didn't get his/her vehicle damaged in the past.\n",
    "\n",
    "*Annual_Premium*: The amount customer needs to pay as premium in the year. **Note**: Not US$\n",
    "\n",
    "*Policy_Sales_Channel*:\tAnonymized Code for the channel of outreaching to the customer ie. Different Agents, Over Mail, Over Phone, In Person, etc.\n",
    "\n",
    "*Vintage*:\tNumber of Days, Customer has been associated with the company\n",
    "\n",
    "*Response*:\t1:- Customer is interested, 0:- Customer is not interested\n",
    "\n"
   ]
  },
  {
   "cell_type": "code",
   "execution_count": 62,
   "metadata": {},
   "outputs": [
    {
     "name": "stdout",
     "output_type": "stream",
     "text": [
      "The shape of the data: (381109, 12)\n",
      "The data information: \n",
      "<class 'pandas.core.frame.DataFrame'>\n",
      "RangeIndex: 381109 entries, 0 to 381108\n",
      "Data columns (total 12 columns):\n",
      " #   Column                Non-Null Count   Dtype \n",
      "---  ------                --------------   ----- \n",
      " 0   id                    381109 non-null  int64 \n",
      " 1   Gender                381109 non-null  object\n",
      " 2   Age                   381109 non-null  int64 \n",
      " 3   Driving_License       381109 non-null  int64 \n",
      " 4   Region_Code           381109 non-null  int64 \n",
      " 5   Previously_Insured    381109 non-null  int64 \n",
      " 6   Vehicle_Age           381109 non-null  object\n",
      " 7   Vehicle_Damage        381109 non-null  object\n",
      " 8   Annual_Premium        381109 non-null  int64 \n",
      " 9   Policy_Sales_Channel  381109 non-null  int64 \n",
      " 10  Vintage               381109 non-null  int64 \n",
      " 11  Response              381109 non-null  int64 \n",
      "dtypes: int64(9), object(3)\n",
      "memory usage: 34.9+ MB\n"
     ]
    }
   ],
   "source": [
    "print(\"The shape of the data: \" + str(df.shape))\n",
    "\n",
    "print(\"The data information: \")\n",
    "\n",
    "df.info()\n"
   ]
  },
  {
   "cell_type": "markdown",
   "metadata": {},
   "source": [
    "### Data Wrangling\n",
    "\n",
    "*Region_Code*, and *Policy_Sales_Channel* to be changed to object type\n",
    "\n",
    "*Vehicle_Damage*, *Vehicle_Age*, *Gender* to be hot encoded"
   ]
  },
  {
   "cell_type": "code",
   "execution_count": 63,
   "metadata": {},
   "outputs": [
    {
     "name": "stdout",
     "output_type": "stream",
     "text": [
      "<class 'pandas.core.frame.DataFrame'>\n",
      "RangeIndex: 381109 entries, 0 to 381108\n",
      "Data columns (total 12 columns):\n",
      " #   Column                Non-Null Count   Dtype \n",
      "---  ------                --------------   ----- \n",
      " 0   id                    381109 non-null  int64 \n",
      " 1   Gender                381109 non-null  object\n",
      " 2   Age                   381109 non-null  int64 \n",
      " 3   Driving_License       381109 non-null  object\n",
      " 4   Region_Code           381109 non-null  object\n",
      " 5   Previously_Insured    381109 non-null  object\n",
      " 6   Vehicle_Age           381109 non-null  object\n",
      " 7   Vehicle_Damage        381109 non-null  object\n",
      " 8   Annual_Premium        381109 non-null  int64 \n",
      " 9   Policy_Sales_Channel  381109 non-null  object\n",
      " 10  Vintage               381109 non-null  int64 \n",
      " 11  Response              381109 non-null  object\n",
      "dtypes: int64(4), object(8)\n",
      "memory usage: 34.9+ MB\n",
      "None\n",
      "<class 'pandas.core.frame.DataFrame'>\n",
      "RangeIndex: 381109 entries, 0 to 381108\n",
      "Data columns (total 8 columns):\n",
      " #   Column                Non-Null Count   Dtype \n",
      "---  ------                --------------   ----- \n",
      " 0   Gender                381109 non-null  object\n",
      " 1   Driving_License       381109 non-null  object\n",
      " 2   Region_Code           381109 non-null  object\n",
      " 3   Previously_Insured    381109 non-null  object\n",
      " 4   Vehicle_Age           381109 non-null  object\n",
      " 5   Vehicle_Damage        381109 non-null  object\n",
      " 6   Policy_Sales_Channel  381109 non-null  object\n",
      " 7   Response              381109 non-null  object\n",
      "dtypes: object(8)\n",
      "memory usage: 23.3+ MB\n",
      "None\n"
     ]
    }
   ],
   "source": [
    "# Create a dictionary for columns requiring change of data type\n",
    "data_types_dict = {'Policy_Sales_Channel': str, 'Region_Code':str,'Driving_License': str, 'Previously_Insured':str, 'Response':str}\n",
    "\n",
    "# Pass the dictionary to .astype() to change the data type\n",
    "df_cat = df.astype(data_types_dict)\n",
    "print(df_cat.info())\n",
    "# Selecting columns of object dtype\n",
    "df_cat = df_cat.select_dtypes(include='object')\n",
    "\n",
    "print(df_cat.info())\n"
   ]
  },
  {
   "cell_type": "code",
   "execution_count": 64,
   "metadata": {},
   "outputs": [
    {
     "name": "stdout",
     "output_type": "stream",
     "text": [
      "<class 'pandas.core.frame.DataFrame'>\n",
      "RangeIndex: 381109 entries, 0 to 381108\n",
      "Data columns (total 12 columns):\n",
      " #   Column                Non-Null Count   Dtype \n",
      "---  ------                --------------   ----- \n",
      " 0   id                    381109 non-null  int64 \n",
      " 1   Gender                381109 non-null  object\n",
      " 2   Age                   381109 non-null  int64 \n",
      " 3   Driving_License       381109 non-null  int64 \n",
      " 4   Region_Code           381109 non-null  int64 \n",
      " 5   Previously_Insured    381109 non-null  int64 \n",
      " 6   Vehicle_Age           381109 non-null  object\n",
      " 7   Vehicle_Damage        381109 non-null  object\n",
      " 8   Annual_Premium        381109 non-null  int64 \n",
      " 9   Policy_Sales_Channel  381109 non-null  int64 \n",
      " 10  Vintage               381109 non-null  int64 \n",
      " 11  Response              381109 non-null  int64 \n",
      "dtypes: int64(9), object(3)\n",
      "memory usage: 34.9+ MB\n",
      "None\n"
     ]
    },
    {
     "data": {
      "text/html": [
       "<div>\n",
       "<style scoped>\n",
       "    .dataframe tbody tr th:only-of-type {\n",
       "        vertical-align: middle;\n",
       "    }\n",
       "\n",
       "    .dataframe tbody tr th {\n",
       "        vertical-align: top;\n",
       "    }\n",
       "\n",
       "    .dataframe thead th {\n",
       "        text-align: right;\n",
       "    }\n",
       "</style>\n",
       "<table border=\"1\" class=\"dataframe\">\n",
       "  <thead>\n",
       "    <tr style=\"text-align: right;\">\n",
       "      <th></th>\n",
       "      <th>id</th>\n",
       "      <th>Age</th>\n",
       "      <th>Driving_License</th>\n",
       "      <th>Previously_Insured</th>\n",
       "      <th>Annual_Premium</th>\n",
       "      <th>Vintage</th>\n",
       "      <th>Response</th>\n",
       "      <th>Gender_Male</th>\n",
       "      <th>Region_Code_1</th>\n",
       "      <th>Region_Code_10</th>\n",
       "      <th>...</th>\n",
       "      <th>Policy_Sales_Channel_90</th>\n",
       "      <th>Policy_Sales_Channel_91</th>\n",
       "      <th>Policy_Sales_Channel_92</th>\n",
       "      <th>Policy_Sales_Channel_93</th>\n",
       "      <th>Policy_Sales_Channel_94</th>\n",
       "      <th>Policy_Sales_Channel_95</th>\n",
       "      <th>Policy_Sales_Channel_96</th>\n",
       "      <th>Policy_Sales_Channel_97</th>\n",
       "      <th>Policy_Sales_Channel_98</th>\n",
       "      <th>Policy_Sales_Channel_99</th>\n",
       "    </tr>\n",
       "  </thead>\n",
       "  <tbody>\n",
       "    <tr>\n",
       "      <th>0</th>\n",
       "      <td>1</td>\n",
       "      <td>44</td>\n",
       "      <td>1</td>\n",
       "      <td>0</td>\n",
       "      <td>40454</td>\n",
       "      <td>217</td>\n",
       "      <td>1</td>\n",
       "      <td>1</td>\n",
       "      <td>0</td>\n",
       "      <td>0</td>\n",
       "      <td>...</td>\n",
       "      <td>0</td>\n",
       "      <td>0</td>\n",
       "      <td>0</td>\n",
       "      <td>0</td>\n",
       "      <td>0</td>\n",
       "      <td>0</td>\n",
       "      <td>0</td>\n",
       "      <td>0</td>\n",
       "      <td>0</td>\n",
       "      <td>0</td>\n",
       "    </tr>\n",
       "    <tr>\n",
       "      <th>1</th>\n",
       "      <td>2</td>\n",
       "      <td>76</td>\n",
       "      <td>1</td>\n",
       "      <td>0</td>\n",
       "      <td>33536</td>\n",
       "      <td>183</td>\n",
       "      <td>0</td>\n",
       "      <td>1</td>\n",
       "      <td>0</td>\n",
       "      <td>0</td>\n",
       "      <td>...</td>\n",
       "      <td>0</td>\n",
       "      <td>0</td>\n",
       "      <td>0</td>\n",
       "      <td>0</td>\n",
       "      <td>0</td>\n",
       "      <td>0</td>\n",
       "      <td>0</td>\n",
       "      <td>0</td>\n",
       "      <td>0</td>\n",
       "      <td>0</td>\n",
       "    </tr>\n",
       "    <tr>\n",
       "      <th>2</th>\n",
       "      <td>3</td>\n",
       "      <td>47</td>\n",
       "      <td>1</td>\n",
       "      <td>0</td>\n",
       "      <td>38294</td>\n",
       "      <td>27</td>\n",
       "      <td>1</td>\n",
       "      <td>1</td>\n",
       "      <td>0</td>\n",
       "      <td>0</td>\n",
       "      <td>...</td>\n",
       "      <td>0</td>\n",
       "      <td>0</td>\n",
       "      <td>0</td>\n",
       "      <td>0</td>\n",
       "      <td>0</td>\n",
       "      <td>0</td>\n",
       "      <td>0</td>\n",
       "      <td>0</td>\n",
       "      <td>0</td>\n",
       "      <td>0</td>\n",
       "    </tr>\n",
       "    <tr>\n",
       "      <th>3</th>\n",
       "      <td>4</td>\n",
       "      <td>21</td>\n",
       "      <td>1</td>\n",
       "      <td>1</td>\n",
       "      <td>28619</td>\n",
       "      <td>203</td>\n",
       "      <td>0</td>\n",
       "      <td>1</td>\n",
       "      <td>0</td>\n",
       "      <td>0</td>\n",
       "      <td>...</td>\n",
       "      <td>0</td>\n",
       "      <td>0</td>\n",
       "      <td>0</td>\n",
       "      <td>0</td>\n",
       "      <td>0</td>\n",
       "      <td>0</td>\n",
       "      <td>0</td>\n",
       "      <td>0</td>\n",
       "      <td>0</td>\n",
       "      <td>0</td>\n",
       "    </tr>\n",
       "    <tr>\n",
       "      <th>4</th>\n",
       "      <td>5</td>\n",
       "      <td>29</td>\n",
       "      <td>1</td>\n",
       "      <td>1</td>\n",
       "      <td>27496</td>\n",
       "      <td>39</td>\n",
       "      <td>0</td>\n",
       "      <td>0</td>\n",
       "      <td>0</td>\n",
       "      <td>0</td>\n",
       "      <td>...</td>\n",
       "      <td>0</td>\n",
       "      <td>0</td>\n",
       "      <td>0</td>\n",
       "      <td>0</td>\n",
       "      <td>0</td>\n",
       "      <td>0</td>\n",
       "      <td>0</td>\n",
       "      <td>0</td>\n",
       "      <td>0</td>\n",
       "      <td>0</td>\n",
       "    </tr>\n",
       "  </tbody>\n",
       "</table>\n",
       "<p>5 rows × 217 columns</p>\n",
       "</div>"
      ],
      "text/plain": [
       "   id  Age  Driving_License  Previously_Insured  Annual_Premium  Vintage  \\\n",
       "0   1   44                1                   0           40454      217   \n",
       "1   2   76                1                   0           33536      183   \n",
       "2   3   47                1                   0           38294       27   \n",
       "3   4   21                1                   1           28619      203   \n",
       "4   5   29                1                   1           27496       39   \n",
       "\n",
       "   Response  Gender_Male  Region_Code_1  Region_Code_10  ...  \\\n",
       "0         1            1              0               0  ...   \n",
       "1         0            1              0               0  ...   \n",
       "2         1            1              0               0  ...   \n",
       "3         0            1              0               0  ...   \n",
       "4         0            0              0               0  ...   \n",
       "\n",
       "   Policy_Sales_Channel_90  Policy_Sales_Channel_91  Policy_Sales_Channel_92  \\\n",
       "0                        0                        0                        0   \n",
       "1                        0                        0                        0   \n",
       "2                        0                        0                        0   \n",
       "3                        0                        0                        0   \n",
       "4                        0                        0                        0   \n",
       "\n",
       "   Policy_Sales_Channel_93  Policy_Sales_Channel_94  Policy_Sales_Channel_95  \\\n",
       "0                        0                        0                        0   \n",
       "1                        0                        0                        0   \n",
       "2                        0                        0                        0   \n",
       "3                        0                        0                        0   \n",
       "4                        0                        0                        0   \n",
       "\n",
       "   Policy_Sales_Channel_96  Policy_Sales_Channel_97  Policy_Sales_Channel_98  \\\n",
       "0                        0                        0                        0   \n",
       "1                        0                        0                        0   \n",
       "2                        0                        0                        0   \n",
       "3                        0                        0                        0   \n",
       "4                        0                        0                        0   \n",
       "\n",
       "   Policy_Sales_Channel_99  \n",
       "0                        0  \n",
       "1                        0  \n",
       "2                        0  \n",
       "3                        0  \n",
       "4                        0  \n",
       "\n",
       "[5 rows x 217 columns]"
      ]
     },
     "execution_count": 64,
     "metadata": {},
     "output_type": "execute_result"
    }
   ],
   "source": [
    "# Hot encoding the object columns\n",
    "print(df.info())\n",
    "# Create a dictionary for columns requiring change of data type\n",
    "data_types_dict = {'Policy_Sales_Channel': str, 'Region_Code':str}\n",
    "\n",
    "# Pass the dictionary to .astype() to change the data type\n",
    "df = df.astype(data_types_dict)\n",
    "\n",
    "df = pd.get_dummies(df, prefix=['Gender', 'Region_Code', 'Vehicle_Age', 'Vehicle_Damage', 'Policy_Sales_Channel'], drop_first=True)\n",
    "df.head()"
   ]
  },
  {
   "cell_type": "markdown",
   "metadata": {},
   "source": [
    "### Data Summarize\n",
    "\n",
    "The data is perfect and does not require any wrangling. The next step is to summarize the data."
   ]
  },
  {
   "cell_type": "code",
   "execution_count": 65,
   "metadata": {},
   "outputs": [
    {
     "name": "stdout",
     "output_type": "stream",
     "text": [
      "        Gender Driving_License Region_Code Previously_Insured Vehicle_Age  \\\n",
      "count   381109          381109      381109             381109      381109   \n",
      "unique       2               2          53                  2           3   \n",
      "top       Male               1          28                  0    1-2 Year   \n",
      "freq    206089          380297      106415             206481      200316   \n",
      "\n",
      "       Vehicle_Damage Policy_Sales_Channel Response  \n",
      "count          381109               381109   381109  \n",
      "unique              2                  155        2  \n",
      "top               Yes                  152        0  \n",
      "freq           192413               134784   334399  \n"
     ]
    },
    {
     "data": {
      "text/html": [
       "<div>\n",
       "<style scoped>\n",
       "    .dataframe tbody tr th:only-of-type {\n",
       "        vertical-align: middle;\n",
       "    }\n",
       "\n",
       "    .dataframe tbody tr th {\n",
       "        vertical-align: top;\n",
       "    }\n",
       "\n",
       "    .dataframe thead th {\n",
       "        text-align: right;\n",
       "    }\n",
       "</style>\n",
       "<table border=\"1\" class=\"dataframe\">\n",
       "  <thead>\n",
       "    <tr style=\"text-align: right;\">\n",
       "      <th></th>\n",
       "      <th>Age</th>\n",
       "      <th>Vintage</th>\n",
       "      <th>Annual_Premium</th>\n",
       "    </tr>\n",
       "  </thead>\n",
       "  <tbody>\n",
       "    <tr>\n",
       "      <th>count</th>\n",
       "      <td>381109.000000</td>\n",
       "      <td>381109.000000</td>\n",
       "      <td>381109.000000</td>\n",
       "    </tr>\n",
       "    <tr>\n",
       "      <th>mean</th>\n",
       "      <td>38.822584</td>\n",
       "      <td>154.347397</td>\n",
       "      <td>30564.389581</td>\n",
       "    </tr>\n",
       "    <tr>\n",
       "      <th>std</th>\n",
       "      <td>15.511611</td>\n",
       "      <td>83.671304</td>\n",
       "      <td>17213.155057</td>\n",
       "    </tr>\n",
       "    <tr>\n",
       "      <th>min</th>\n",
       "      <td>20.000000</td>\n",
       "      <td>10.000000</td>\n",
       "      <td>2630.000000</td>\n",
       "    </tr>\n",
       "    <tr>\n",
       "      <th>25%</th>\n",
       "      <td>25.000000</td>\n",
       "      <td>82.000000</td>\n",
       "      <td>24405.000000</td>\n",
       "    </tr>\n",
       "    <tr>\n",
       "      <th>50%</th>\n",
       "      <td>36.000000</td>\n",
       "      <td>154.000000</td>\n",
       "      <td>31669.000000</td>\n",
       "    </tr>\n",
       "    <tr>\n",
       "      <th>75%</th>\n",
       "      <td>49.000000</td>\n",
       "      <td>227.000000</td>\n",
       "      <td>39400.000000</td>\n",
       "    </tr>\n",
       "    <tr>\n",
       "      <th>max</th>\n",
       "      <td>85.000000</td>\n",
       "      <td>299.000000</td>\n",
       "      <td>540165.000000</td>\n",
       "    </tr>\n",
       "  </tbody>\n",
       "</table>\n",
       "</div>"
      ],
      "text/plain": [
       "                 Age        Vintage  Annual_Premium\n",
       "count  381109.000000  381109.000000   381109.000000\n",
       "mean       38.822584     154.347397    30564.389581\n",
       "std        15.511611      83.671304    17213.155057\n",
       "min        20.000000      10.000000     2630.000000\n",
       "25%        25.000000      82.000000    24405.000000\n",
       "50%        36.000000     154.000000    31669.000000\n",
       "75%        49.000000     227.000000    39400.000000\n",
       "max        85.000000     299.000000   540165.000000"
      ]
     },
     "execution_count": 65,
     "metadata": {},
     "output_type": "execute_result"
    }
   ],
   "source": [
    "print(df_cat.describe())\n",
    "df[['Age', 'Vintage','Annual_Premium']].describe()"
   ]
  },
  {
   "cell_type": "markdown",
   "metadata": {},
   "source": [
    "The data are unbalanced with a high number of customers, 334399/381109, that were not interested in vehicle insurance. Balancing out the response may lead to better predictions."
   ]
  },
  {
   "cell_type": "markdown",
   "metadata": {},
   "source": [
    "### Data Visualization"
   ]
  },
  {
   "cell_type": "code",
   "execution_count": 67,
   "metadata": {},
   "outputs": [],
   "source": [
    "import matplotlib.pyplot as plt\n",
    "%matplotlib inline\n",
    "import seaborn as sns\n",
    "sns.set()\n",
    "sns.set(style=\"whitegrid\")\n"
   ]
  },
  {
   "cell_type": "code",
   "execution_count": 68,
   "metadata": {},
   "outputs": [
    {
     "data": {
      "text/plain": [
       "<AxesSubplot:xlabel='Response', ylabel='count'>"
      ]
     },
     "execution_count": 68,
     "metadata": {},
     "output_type": "execute_result"
    },
    {
     "data": {
      "image/png": "[encoded data removed]",
      "text/plain": [
       "<Figure size 432x288 with 1 Axes>"
      ]
     },
     "metadata": {},
     "output_type": "display_data"
    }
   ],
   "source": [
    "sns.countplot(x=\"Response\", data=df)"
   ]
  },
  {
   "cell_type": "code",
   "execution_count": 69,
   "metadata": {},
   "outputs": [
    {
     "data": {
      "text/plain": [
       "<AxesSubplot:xlabel='Vehicle_Age', ylabel='count'>"
      ]
     },
     "execution_count": 69,
     "metadata": {},
     "output_type": "execute_result"
    },
    {
     "data": {
      "image/png": "[encoded data removed]",
      "text/plain": [
       "<Figure size 432x288 with 1 Axes>"
      ]
     },
     "metadata": {},
     "output_type": "display_data"
    }
   ],
   "source": [
    "sns.countplot(x=\"Vehicle_Age\", hue=\"Response\", data=df_cat)"
   ]
  },
  {
   "cell_type": "code",
   "execution_count": 70,
   "metadata": {},
   "outputs": [
    {
     "data": {
      "text/plain": [
       "<AxesSubplot:xlabel='Age', ylabel='Count'>"
      ]
     },
     "execution_count": 70,
     "metadata": {},
     "output_type": "execute_result"
    },
    {
     "data": {
      "image/png": "[encoded data removed]",
      "text/plain": [
       "<Figure size 432x288 with 1 Axes>"
      ]
     },
     "metadata": {},
     "output_type": "display_data"
    }
   ],
   "source": [
    "sns.histplot(x=\"Age\", hue=\"Response\", alpha=.7, binwidth = 10, data = df)"
   ]
  },
  {
   "cell_type": "code",
   "execution_count": 71,
   "metadata": {},
   "outputs": [
    {
     "data": {
      "text/plain": [
       "<AxesSubplot:xlabel='Annual_Premium', ylabel='Count'>"
      ]
     },
     "execution_count": 71,
     "metadata": {},
     "output_type": "execute_result"
    },
    {
     "data": {
      "image/png": "[encoded data removed]",
      "text/plain": [
       "<Figure size 432x288 with 1 Axes>"
      ]
     },
     "metadata": {},
     "output_type": "display_data"
    }
   ],
   "source": [
    "sns.histplot(x=\"Annual_Premium\", hue=\"Response\", alpha=.7, binwidth = 20000, data = df)"
   ]
  },
  {
   "cell_type": "code",
   "execution_count": 72,
   "metadata": {},
   "outputs": [
    {
     "data": {
      "text/plain": [
       "<AxesSubplot:xlabel='Vintage', ylabel='Count'>"
      ]
     },
     "execution_count": 72,
     "metadata": {},
     "output_type": "execute_result"
    },
    {
     "data": {
      "image/png": "[encoded data removed]",
      "text/plain": [
       "<Figure size 432x288 with 1 Axes>"
      ]
     },
     "metadata": {},
     "output_type": "display_data"
    }
   ],
   "source": [
    "sns.histplot(x=\"Vintage\", hue=\"Response\", alpha=.7, binwidth = 50, data = df)"
   ]
  },
  {
   "cell_type": "markdown",
   "metadata": {},
   "source": [
    "### Train and Test data Split"
   ]
  },
  {
   "cell_type": "code",
   "execution_count": 73,
   "metadata": {},
   "outputs": [],
   "source": [
    "from sklearn.model_selection import train_test_split\n",
    "df_x = df.drop('Response', axis = 1)\n",
    "df_y = pd.DataFrame(df.Response)\n"
   ]
  },
  {
   "cell_type": "code",
   "execution_count": 74,
   "metadata": {},
   "outputs": [],
   "source": [
    "x_train, x_test, y_train, y_test = train_test_split(df_x, df_y, test_size=0.33, random_state=42)\n",
    "\n"
   ]
  },
  {
   "cell_type": "markdown",
   "metadata": {},
   "source": [
    "### Fitting and Training Logistic Regression Model"
   ]
  },
  {
   "cell_type": "code",
   "execution_count": 75,
   "metadata": {},
   "outputs": [],
   "source": [
    "from sklearn.linear_model import LogisticRegression\n",
    "logmodel = LogisticRegression()"
   ]
  },
  {
   "cell_type": "code",
   "execution_count": 76,
   "metadata": {},
   "outputs": [
    {
     "name": "stderr",
     "output_type": "stream",
     "text": [
      "C:\\Users\\tuo02129\\Anaconda3\\lib\\site-packages\\sklearn\\utils\\validation.py:72: DataConversionWarning: A column-vector y was passed when a 1d array was expected. Please change the shape of y to (n_samples, ), for example using ravel().\n",
      "  return f(**kwargs)\n"
     ]
    },
    {
     "data": {
      "text/plain": [
       "LogisticRegression()"
      ]
     },
     "execution_count": 76,
     "metadata": {},
     "output_type": "execute_result"
    }
   ],
   "source": [
    "logmodel.fit(x_train,y_train)"
   ]
  },
  {
   "cell_type": "code",
   "execution_count": 77,
   "metadata": {},
   "outputs": [],
   "source": [
    "predictions = logmodel.predict(x_test)"
   ]
  },
  {
   "cell_type": "markdown",
   "metadata": {},
   "source": [
    "### Assessing Prediction Accuracy with AUC_ROC"
   ]
  },
  {
   "cell_type": "code",
   "execution_count": 78,
   "metadata": {},
   "outputs": [
    {
     "data": {
      "image/png": "[encoded data removed]",
      "text/plain": [
       "<Figure size 432x288 with 2 Axes>"
      ]
     },
     "metadata": {},
     "output_type": "display_data"
    },
    {
     "name": "stdout",
     "output_type": "stream",
     "text": [
      "Model Accuracy: 0.8766359747467519\n",
      "Model AUC ROC: 0.5\n"
     ]
    }
   ],
   "source": [
    "from sklearn.metrics import plot_confusion_matrix, accuracy_score, roc_auc_score\n",
    "\n",
    "# Evaluate by means of a confusion matrix\n",
    "matrix = plot_confusion_matrix(logmodel, x_test, y_test,\n",
    "                               cmap=plt.cm.Blues, \n",
    "                               normalize='true')\n",
    "plt.title('Confusion matrix for Logistic')\n",
    "plt.show(matrix)\n",
    "plt.show()\n",
    "\n",
    "accuracy = accuracy_score(y_test, predictions)\n",
    "\n",
    "print(f'Model Accuracy: {accuracy}')\n",
    "\n",
    "roc = roc_auc_score(y_test, predictions)\n",
    "\n",
    "print(f'Model AUC ROC: {roc}')\n",
    "\n"
   ]
  },
  {
   "cell_type": "markdown",
   "metadata": {},
   "source": [
    "### Plot the ROC CURVE"
   ]
  },
  {
   "cell_type": "code",
   "execution_count": 79,
   "metadata": {},
   "outputs": [
    {
     "data": {
      "image/png": "[encoded data removed]",
      "text/plain": [
       "<Figure size 432x288 with 1 Axes>"
      ]
     },
     "metadata": {},
     "output_type": "display_data"
    }
   ],
   "source": [
    "from sklearn.metrics import roc_curve, auc\n",
    "\n",
    "probs = logmodel.predict_proba(x_test)\n",
    "fpr1, tpr1, thresholds = roc_curve(y_test, probs[:, 1], pos_label=1)\n",
    "roc_auc1 = auc(fpr1, tpr1)\n",
    "\n",
    "plt.plot(fpr1, tpr1, label='ROC Curve (AUC = %0.2f)' % (roc_auc1))\n",
    "plt.xlim([-0.05, 1.05])\n",
    "plt.ylim([-0.05, 1.05])\n",
    "plt.xlabel('False positive rate')\n",
    "plt.ylabel('True positive rate')\n",
    "plt.legend(loc=\"lower right\")\n",
    "plt.show()"
   ]
  },
  {
   "cell_type": "code",
   "execution_count": null,
   "metadata": {},
   "outputs": [],
   "source": []
  }
 ],
 "metadata": {
  "kernelspec": {
   "display_name": "Python 3",
   "language": "python",
   "name": "python3"
  },
  "language_info": {
   "codemirror_mode": {
    "name": "ipython",
    "version": 3
   },
   "file_extension": ".py",
   "mimetype": "text/x-python",
   "name": "python",
   "nbconvert_exporter": "python",
   "pygments_lexer": "ipython3",
   "version": "3.8.5"
  }
 },
 "nbformat": 4,
 "nbformat_minor": 4
}
